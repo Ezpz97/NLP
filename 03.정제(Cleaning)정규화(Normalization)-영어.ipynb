{
 "cells": [
  {
   "cell_type": "markdown",
   "id": "a20a8fcb",
   "metadata": {},
   "source": [
    "## 정규화\n",
    "* 규칙에 기반한 표기가 다른 단어들의 통합\n",
    "    * USA-US, uh-huh-uhhuh\n",
    "    * 어간 추출(stemming), 표제어 추출(lemmatizaiton) : 단어의 개수를 줄임    \n",
    "* 대, 소문자 통합"
   ]
  },
  {
   "cell_type": "code",
   "execution_count": null,
   "id": "5072fef8",
   "metadata": {},
   "outputs": [],
   "source": [
    "'''\n",
    "[Stemming]\n",
    "am → am\n",
    "the going → the go\n",
    "having → hav\n",
    "\n",
    "[Lemmatization]\n",
    "am → be\n",
    "the going → the going\n",
    "having → have\n",
    "'''"
   ]
  },
  {
   "cell_type": "markdown",
   "id": "75f57f77",
   "metadata": {},
   "source": [
    "### 표제어 추출(Lemmatization)\n",
    "* 표제어 뜻 : 기본 사전형 단어\n",
    "* am, are, is - be로 통일\n",
    "* 형태소(의미를 가진 가장 작은 단위) : 어간(stem)과 접사(affix)\n",
    "    * 어간(stem) : 의미를 담고 있는 단어의 핵심 부분\n",
    "    * 접사(affix) : 단어에 추가적인 의미를 주는 부분\n",
    "* 형태학적 파싱(어간과 접사를 분리하는 작업) \n",
    "    * cats : cat(어간) + s(접사)\n",
    "* 품사의 정보를 보존"
   ]
  },
  {
   "cell_type": "code",
   "execution_count": 1,
   "id": "8c4275f1",
   "metadata": {},
   "outputs": [
    {
     "name": "stdout",
     "output_type": "stream",
     "text": [
      "표제어 추출 전 : ['policy', 'doing', 'organization', 'have', 'going', 'love', 'lives', 'fly', 'dies', 'watched', 'has', 'starting']\n",
      "표제어 추출 후 : ['policy', 'doing', 'organization', 'have', 'going', 'love', 'life', 'fly', 'dy', 'watched', 'ha', 'starting']\n"
     ]
    }
   ],
   "source": [
    "from nltk.stem import WordNetLemmatizer\n",
    "\n",
    "lemmatizer = WordNetLemmatizer()\n",
    "words = ['policy', 'doing', 'organization', 'have', 'going', 'love', 'lives', 'fly', 'dies', 'watched', 'has', 'starting']\n",
    "print('표제어 추출 전 :',words)\n",
    "print('표제어 추출 후 :',[lemmatizer.lemmatize(word) for word in words])"
   ]
  },
  {
   "cell_type": "code",
   "execution_count": 2,
   "id": "ab0a012b",
   "metadata": {},
   "outputs": [
    {
     "data": {
      "text/plain": [
       "'die'"
      ]
     },
     "execution_count": 2,
     "metadata": {},
     "output_type": "execute_result"
    }
   ],
   "source": [
    "lemmatizer.lemmatize('dies', 'v')"
   ]
  },
  {
   "cell_type": "code",
   "execution_count": 3,
   "id": "cc89037e",
   "metadata": {},
   "outputs": [
    {
     "data": {
      "text/plain": [
       "'watch'"
      ]
     },
     "execution_count": 3,
     "metadata": {},
     "output_type": "execute_result"
    }
   ],
   "source": [
    "lemmatizer.lemmatize('watched', 'v')"
   ]
  },
  {
   "cell_type": "code",
   "execution_count": 4,
   "id": "0d54af6f",
   "metadata": {},
   "outputs": [
    {
     "data": {
      "text/plain": [
       "'have'"
      ]
     },
     "execution_count": 4,
     "metadata": {},
     "output_type": "execute_result"
    }
   ],
   "source": [
    "lemmatizer.lemmatize('has', 'v')"
   ]
  },
  {
   "cell_type": "markdown",
   "id": "7d588b2b",
   "metadata": {},
   "source": [
    "### 어간 추출(Stemming)\n",
    "* 어림짐작의 작업\n",
    "* 품사의 정보를 보존하지 않음"
   ]
  },
  {
   "cell_type": "code",
   "execution_count": null,
   "id": "54b1726c",
   "metadata": {},
   "outputs": [],
   "source": [
    "'''\n",
    "[포터 알고리즘 규칙]\n",
    "\n",
    "ALIZE → AL\n",
    "ANCE → 제거\n",
    "ICAL → IC\n",
    "\n",
    "formalize → formal\n",
    "allowance → allow\n",
    "electricical → electric\n",
    "'''"
   ]
  },
  {
   "cell_type": "markdown",
   "id": "fb99bb89",
   "metadata": {},
   "source": [
    "* 포터 알고리즘"
   ]
  },
  {
   "cell_type": "code",
   "execution_count": 6,
   "id": "5c0f7684",
   "metadata": {},
   "outputs": [
    {
     "name": "stdout",
     "output_type": "stream",
     "text": [
      "어간 추출 전 : ['This', 'was', 'not', 'the', 'map', 'we', 'found', 'in', 'Billy', 'Bones', \"'s\", 'chest', ',', 'but', 'an', 'accurate', 'copy', ',', 'complete', 'in', 'all', 'things', '--', 'names', 'and', 'heights', 'and', 'soundings', '--', 'with', 'the', 'single', 'exception', 'of', 'the', 'red', 'crosses', 'and', 'the', 'written', 'notes', '.']\n",
      "어간 추출 후 : ['thi', 'wa', 'not', 'the', 'map', 'we', 'found', 'in', 'billi', 'bone', \"'s\", 'chest', ',', 'but', 'an', 'accur', 'copi', ',', 'complet', 'in', 'all', 'thing', '--', 'name', 'and', 'height', 'and', 'sound', '--', 'with', 'the', 'singl', 'except', 'of', 'the', 'red', 'cross', 'and', 'the', 'written', 'note', '.']\n"
     ]
    }
   ],
   "source": [
    "from nltk.stem import PorterStemmer\n",
    "from nltk.tokenize import word_tokenize\n",
    "\n",
    "stemmer = PorterStemmer()\n",
    "sentence = \"This was not the map we found in Billy Bones's chest, but an accurate copy, complete in all things--names and heights and soundings--with the single exception of the red crosses and the written notes.\"\n",
    "\n",
    "tokenized_sentence = word_tokenize(sentence)\n",
    "print('어간 추출 전 :', tokenized_sentence)\n",
    "print('어간 추출 후 :',[stemmer.stem(word) for word in tokenized_sentence])"
   ]
  },
  {
   "cell_type": "code",
   "execution_count": 7,
   "id": "35a92fee",
   "metadata": {},
   "outputs": [
    {
     "name": "stdout",
     "output_type": "stream",
     "text": [
      "어간 추출 전 : ['formalize', 'allowance', 'electricical']\n",
      "어간 추출 후 : ['formal', 'allow', 'electric']\n"
     ]
    }
   ],
   "source": [
    "words = ['formalize', 'allowance', 'electricical']\n",
    "\n",
    "print('어간 추출 전 :',words)\n",
    "print('어간 추출 후 :',[stemmer.stem(word) for word in words])"
   ]
  },
  {
   "cell_type": "markdown",
   "id": "3b6e2685",
   "metadata": {},
   "source": [
    "* 랭커스터 스태머(Lancaster Stemmer) 알고리즘"
   ]
  },
  {
   "cell_type": "code",
   "execution_count": 8,
   "id": "3a944424",
   "metadata": {},
   "outputs": [
    {
     "name": "stdout",
     "output_type": "stream",
     "text": [
      "어간 추출 전 : ['policy', 'doing', 'organization', 'have', 'going', 'love', 'lives', 'fly', 'dies', 'watched', 'has', 'starting']\n",
      "포터 스테머의 어간 추출 후: ['polici', 'do', 'organ', 'have', 'go', 'love', 'live', 'fli', 'die', 'watch', 'ha', 'start']\n",
      "랭커스터 스테머의 어간 추출 후: ['policy', 'doing', 'org', 'hav', 'going', 'lov', 'liv', 'fly', 'die', 'watch', 'has', 'start']\n"
     ]
    }
   ],
   "source": [
    "from nltk.stem import PorterStemmer\n",
    "from nltk.stem import LancasterStemmer\n",
    "\n",
    "porter_stemmer = PorterStemmer()\n",
    "lancaster_stemmer = LancasterStemmer()\n",
    "\n",
    "words = ['policy', 'doing', 'organization', 'have', 'going', 'love', 'lives', 'fly', 'dies', 'watched', 'has', 'starting']\n",
    "\n",
    "print('어간 추출 전 :', words)\n",
    "print('포터 스테머의 어간 추출 후:',[porter_stemmer.stem(w) for w in words])\n",
    "print('랭커스터 스테머의 어간 추출 후:',[lancaster_stemmer.stem(w) for w in words])"
   ]
  },
  {
   "cell_type": "markdown",
   "id": "afc912fc",
   "metadata": {},
   "source": [
    "## 정제\n",
    "* 불필요한 단어(노이즈 데이터)의 제거\n",
    "    * 등장 빈도가 적은 단어\n",
    "    * 길이가 짧은 단어(영어 단어 : 길이 6-7정도, 한국어 단어 : 2-3정도면 짧다)"
   ]
  },
  {
   "cell_type": "code",
   "execution_count": null,
   "id": "abfe0f70",
   "metadata": {},
   "outputs": [],
   "source": [
    "import re  # 정규 표현식"
   ]
  }
 ],
 "metadata": {
  "kernelspec": {
   "display_name": "Python 3 (ipykernel)",
   "language": "python",
   "name": "python3"
  },
  "language_info": {
   "codemirror_mode": {
    "name": "ipython",
    "version": 3
   },
   "file_extension": ".py",
   "mimetype": "text/x-python",
   "name": "python",
   "nbconvert_exporter": "python",
   "pygments_lexer": "ipython3",
   "version": "3.10.9"
  }
 },
 "nbformat": 4,
 "nbformat_minor": 5
}
