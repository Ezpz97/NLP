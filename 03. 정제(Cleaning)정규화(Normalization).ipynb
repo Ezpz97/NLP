{
 "cells": [
  {
   "cell_type": "markdown",
   "id": "eb2b1354",
   "metadata": {},
   "source": [
    "## 정규화\n",
    "* 규칙에 기반한 표기가 다른 단어들의 통합\n",
    "    * USA-US, uh-huh-uhhuh\n",
    "    * 어간 추출(stemming), 표제어 추출(lemmatizaiton) : 단어의 개수를 줄임    \n",
    "* 대, 소문자 통합"
   ]
  },
  {
   "cell_type": "markdown",
   "id": "95c7df65",
   "metadata": {},
   "source": [
    "### 표제어 추출(Lemmatization)\n",
    "* 표제어 뜻 : 기본 사전형 단어\n",
    "* am, are, is - be로 통일\n",
    "* 형태소(의미를 가진 가장 작은 단위) : 어간(stem)과 접사(affix)\n",
    "    * 어간(stem) : 의미를 담고 있는 단어의 핵심 부분\n",
    "    * 접사(affix) : 단어에 추가적인 의미를 주는 부분\n",
    "* 형태학적 파싱(어간과 접사를 분리하는 작업) \n",
    "    * cats : cat(어간) + s(접사)\n",
    "* 품사의 정보를 보존"
   ]
  },
  {
   "cell_type": "code",
   "execution_count": 1,
   "id": "1f87b680",
   "metadata": {},
   "outputs": [
    {
     "name": "stdout",
     "output_type": "stream",
     "text": [
      "표제어 추출 전 : ['policy', 'doing', 'organization', 'have', 'going', 'love', 'lives', 'fly', 'dies', 'watched', 'has', 'starting']\n",
      "표제어 추출 후 : ['policy', 'doing', 'organization', 'have', 'going', 'love', 'life', 'fly', 'dy', 'watched', 'ha', 'starting']\n"
     ]
    }
   ],
   "source": [
    "from nltk.stem import WordNetLemmatizer\n",
    "\n",
    "lemmatizer = WordNetLemmatizer()\n",
    "words = ['policy', 'doing', 'organization', 'have', 'going', 'love', 'lives', 'fly', 'dies', 'watched', 'has', 'starting']\n",
    "print('표제어 추출 전 :',words)\n",
    "print('표제어 추출 후 :',[lemmatizer.lemmatize(word) for word in words])"
   ]
  },
  {
   "cell_type": "code",
   "execution_count": 2,
   "id": "68a3a636",
   "metadata": {},
   "outputs": [
    {
     "data": {
      "text/plain": [
       "'die'"
      ]
     },
     "execution_count": 2,
     "metadata": {},
     "output_type": "execute_result"
    }
   ],
   "source": [
    "lemmatizer.lemmatize('dies', 'v')"
   ]
  },
  {
   "cell_type": "code",
   "execution_count": 3,
   "id": "b4ded162",
   "metadata": {},
   "outputs": [
    {
     "data": {
      "text/plain": [
       "'watch'"
      ]
     },
     "execution_count": 3,
     "metadata": {},
     "output_type": "execute_result"
    }
   ],
   "source": [
    "lemmatizer.lemmatize('watched', 'v')"
   ]
  },
  {
   "cell_type": "code",
   "execution_count": 4,
   "id": "33c6a4f4",
   "metadata": {},
   "outputs": [
    {
     "data": {
      "text/plain": [
       "'have'"
      ]
     },
     "execution_count": 4,
     "metadata": {},
     "output_type": "execute_result"
    }
   ],
   "source": [
    "lemmatizer.lemmatize('has', 'v')"
   ]
  },
  {
   "cell_type": "markdown",
   "id": "317cf958",
   "metadata": {},
   "source": [
    "### 어간 추출(Stemming)\n",
    "* 어림짐작의 작업\n",
    "* 품사의 정보를 보존하지 않음"
   ]
  },
  {
   "cell_type": "code",
   "execution_count": null,
   "id": "5253ba8f",
   "metadata": {},
   "outputs": [],
   "source": [
    "from nltk.stem import PorterStemmer\n",
    "from nltk.tokenize import word_tokenize\n",
    "\n"
   ]
  },
  {
   "cell_type": "code",
   "execution_count": null,
   "id": "d5f43865",
   "metadata": {},
   "outputs": [],
   "source": []
  },
  {
   "cell_type": "markdown",
   "id": "f9e0f108",
   "metadata": {},
   "source": [
    "## 정제\n",
    "* 불필요한 단어(노이즈 데이터)의 제거\n",
    "    * 등장 빈도가 적은 단어\n",
    "    * 길이가 짧은 단어(영어 단어 : 길이 6-7정도, 한국어 단어 : 2-3정도면 짧다)"
   ]
  },
  {
   "cell_type": "code",
   "execution_count": null,
   "id": "0998804a",
   "metadata": {},
   "outputs": [],
   "source": [
    "import re  # 정규 표현식"
   ]
  }
 ],
 "metadata": {
  "kernelspec": {
   "display_name": "Python 3 (ipykernel)",
   "language": "python",
   "name": "python3"
  },
  "language_info": {
   "codemirror_mode": {
    "name": "ipython",
    "version": 3
   },
   "file_extension": ".py",
   "mimetype": "text/x-python",
   "name": "python",
   "nbconvert_exporter": "python",
   "pygments_lexer": "ipython3",
   "version": "3.10.9"
  }
 },
 "nbformat": 4,
 "nbformat_minor": 5
}
