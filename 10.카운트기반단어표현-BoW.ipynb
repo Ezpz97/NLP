{
 "cells": [
  {
   "cell_type": "markdown",
   "id": "01b7c086",
   "metadata": {},
   "source": [
    "## BoW를 만드는 순서\n",
    "* 각 단어에 고유한 정수 인덱스를 부여 \n",
    "* 인덱스의 위치에 단어 토큰의 등장 횟수를 기록한 벡터를 만듬"
   ]
  },
  {
   "cell_type": "code",
   "execution_count": 2,
   "id": "819bc82b",
   "metadata": {},
   "outputs": [
    {
     "data": {
      "text/plain": [
       "'정부가 발표하는 물가상승률과 소비자가 느끼는 물가상승률은 다르다'"
      ]
     },
     "execution_count": 2,
     "metadata": {},
     "output_type": "execute_result"
    }
   ],
   "source": [
    "from konlpy.tag import Okt\n",
    "\n",
    "okt = Okt()\n",
    "document = \"정부가 발표하는 물가상승률과 소비자가 느끼는 물가상승률은 다르다.\"\n",
    "document = document.replace('.','')\n",
    "document"
   ]
  },
  {
   "cell_type": "code",
   "execution_count": 3,
   "id": "56c73240",
   "metadata": {},
   "outputs": [
    {
     "data": {
      "text/plain": [
       "['정부', '가', '발표', '하는', '물가상승률', '과', '소비자', '가', '느끼는', '물가상승률', '은', '다르다']"
      ]
     },
     "execution_count": 3,
     "metadata": {},
     "output_type": "execute_result"
    }
   ],
   "source": [
    "tokenized_document = okt.morphs(document)\n",
    "tokenized_document"
   ]
  },
  {
   "cell_type": "code",
   "execution_count": 4,
   "id": "c90e4eda",
   "metadata": {},
   "outputs": [
    {
     "name": "stdout",
     "output_type": "stream",
     "text": [
      "{'정부': 0, '가': 1, '발표': 2, '하는': 3, '물가상승률': 4, '과': 5, '소비자': 6, '느끼는': 7, '은': 8, '다르다': 9}\n",
      "[1, 2, 1, 1, 2, 1, 1, 1, 1, 1]\n"
     ]
    }
   ],
   "source": [
    "word_to_index = {}\n",
    "bow = []\n",
    "\n",
    "for word in tokenized_document:\n",
    "    if word not in word_to_index.keys():\n",
    "        word_to_index[word] = len(word_to_index)\n",
    "        bow.insert(len(word_to_index)-1,1)\n",
    "    else:\n",
    "        # 재등장하는 단어 인덱스\n",
    "        index = word_to_index.get(word)\n",
    "        bow[index] = bow[index] + 1\n",
    "        \n",
    "print(word_to_index)\n",
    "print(bow)"
   ]
  },
  {
   "cell_type": "code",
   "execution_count": 5,
   "id": "7cca4701",
   "metadata": {},
   "outputs": [],
   "source": [
    "def build_bag_of_words(document):\n",
    "  # 온점 제거 및 형태소 분석\n",
    "  document = document.replace('.', '')\n",
    "  tokenized_document = okt.morphs(document)\n",
    "  word_to_index = {}\n",
    "  bow = []\n",
    "  for word in tokenized_document:\n",
    "    if word not in word_to_index.keys():\n",
    "      word_to_index[word] = len(word_to_index)\n",
    "      # BoW에 전부 기본값 1을 넣는다.\n",
    "      bow.insert(len(word_to_index) - 1, 1)\n",
    "    else:\n",
    "      # 재등장하는 단어의 인덱스\n",
    "      index = word_to_index.get(word)\n",
    "      # 재등장한 단어는 해당하는 인덱스의 위치에 1을 더한다.\n",
    "      bow[index] = bow[index] + 1\n",
    "  return word_to_index, bow"
   ]
  },
  {
   "cell_type": "code",
   "execution_count": 6,
   "id": "71fc6f8c",
   "metadata": {},
   "outputs": [
    {
     "name": "stdout",
     "output_type": "stream",
     "text": [
      "vocabulary :  {'정부': 0, '가': 1, '발표': 2, '하는': 3, '물가상승률': 4, '과': 5, '소비자': 6, '느끼는': 7, '은': 8, '다르다': 9}\n",
      "bag of words vector : [1, 2, 1, 1, 2, 1, 1, 1, 1, 1]\n"
     ]
    }
   ],
   "source": [
    "document = \"정부가 발표하는 물가상승률과 소비자가 느끼는 물가상승률은 다르다.\"\n",
    "vocab, bow = build_bag_of_words(document)\n",
    "print('vocabulary : ',vocab)\n",
    "print('bag of words vector :',bow)"
   ]
  },
  {
   "cell_type": "code",
   "execution_count": 13,
   "id": "0525ff8d",
   "metadata": {},
   "outputs": [
    {
     "name": "stdout",
     "output_type": "stream",
     "text": [
      "vocabulary: {'소비자': 0, '는': 1, '주로': 2, '소비': 3, '하는': 4, '상품': 5, '을': 6, '기준': 7, '으로': 8, '물가상승률': 9, '느낀다': 10}\n",
      "bag of words vector: [1, 1, 1, 1, 1, 1, 2, 1, 1, 1, 1]\n"
     ]
    }
   ],
   "source": [
    "doc2 = '소비자는 주로 소비하는 상품을 기준으로 물가상승률을 느낀다.'\n",
    "\n",
    "vocab, bow = build_bag_of_words(doc2)\n",
    "print('vocabulary:',vocab)\n",
    "print('bag of words vector:',bow)"
   ]
  },
  {
   "cell_type": "code",
   "execution_count": 15,
   "id": "0f1c1185",
   "metadata": {},
   "outputs": [
    {
     "name": "stdout",
     "output_type": "stream",
     "text": [
      "vocabulary: {'정부': 0, '가': 1, '발표': 2, '하는': 3, '물가상승률': 4, '과': 5, '소비자': 6, '느끼는': 7, '은': 8, '다르다': 9, '는': 10, '주로': 11, '소비': 12, '상품': 13, '을': 14, '기준': 15, '으로': 16, '느낀다': 17}\n",
      "bag of words vector: [1, 2, 1, 2, 3, 1, 2, 1, 1, 1, 1, 1, 1, 1, 2, 1, 1, 1]\n"
     ]
    }
   ],
   "source": [
    "doc3 = document + doc2\n",
    "vocab,bow = build_bag_of_words(doc3)\n",
    "print('vocabulary:',vocab)\n",
    "print('bag of words vector:',bow)"
   ]
  },
  {
   "cell_type": "markdown",
   "id": "c2bb8a22",
   "metadata": {},
   "source": [
    "## CountVectorizer 클래스로 BoW 만들기"
   ]
  },
  {
   "cell_type": "code",
   "execution_count": null,
   "id": "f9505495",
   "metadata": {},
   "outputs": [],
   "source": [
    "from sklearn.feature_extraction.text import CountVectorizer\n",
    "\n",
    "corpus = ['you know I want your love. because I love you.']\n",
    "vector = CountVectorizer()\n",
    "\n",
    "print('bag of words vector:',vector.fit_transform(corpus).toarray()[0])\n",
    "print('vocabulary:',vector.vocabulary_)"
   ]
  },
  {
   "cell_type": "markdown",
   "id": "6fce9a2d",
   "metadata": {},
   "source": [
    "## 불용어를 제거한 BoW 만들기"
   ]
  },
  {
   "cell_type": "code",
   "execution_count": 17,
   "id": "148d541d",
   "metadata": {},
   "outputs": [],
   "source": [
    "from sklearn.feature_extraction.text import CountVectorizer\n",
    "from nltk.corpus import stopwords"
   ]
  },
  {
   "cell_type": "markdown",
   "id": "ff4c9052",
   "metadata": {},
   "source": [
    "* 사용자가 직접 정의한 불용어 사용"
   ]
  },
  {
   "cell_type": "code",
   "execution_count": 18,
   "id": "36aa9db3",
   "metadata": {},
   "outputs": [
    {
     "name": "stdout",
     "output_type": "stream",
     "text": [
      "bag of words vector: [[1 1 1 1 1]]\n",
      "vocabulary: {'family': 1, 'important': 2, 'thing': 4, 'it': 3, 'everything': 0}\n"
     ]
    }
   ],
   "source": [
    "text = [\"Family is not an important thing. It's everything.\"]\n",
    "vect = CountVectorizer(stop_words=['the','a','an','is','not'])\n",
    "\n",
    "print('bag of words vector:',vect.fit_transform(text).toarray())\n",
    "print('vocabulary:',vect.vocabulary_)"
   ]
  },
  {
   "cell_type": "markdown",
   "id": "b371d078",
   "metadata": {},
   "source": [
    "* CountVectorizer에서 제공하는 자체 불용어 사용"
   ]
  },
  {
   "cell_type": "code",
   "execution_count": 19,
   "id": "4d0bf0a4",
   "metadata": {},
   "outputs": [
    {
     "name": "stdout",
     "output_type": "stream",
     "text": [
      "bag of words vector: [[1 1 1]]\n",
      "vocabulary: {'family': 0, 'important': 1, 'thing': 2}\n"
     ]
    }
   ],
   "source": [
    "text = [\"Family is not an important thing. It's everything.\"]\n",
    "vect = CountVectorizer(stop_words='english')\n",
    "\n",
    "print('bag of words vector:',vect.fit_transform(text).toarray())\n",
    "print('vocabulary:',vect.vocabulary_)"
   ]
  },
  {
   "cell_type": "markdown",
   "id": "cae4e5dc",
   "metadata": {},
   "source": [
    "* NLTK에서 지원하는 불용어 사용\n"
   ]
  },
  {
   "cell_type": "code",
   "execution_count": 20,
   "id": "b6fe669d",
   "metadata": {},
   "outputs": [
    {
     "name": "stdout",
     "output_type": "stream",
     "text": [
      "bag of words vector: [[1 1 1 1]]\n",
      "vocabulary: {'family': 1, 'important': 2, 'thing': 3, 'everything': 0}\n"
     ]
    }
   ],
   "source": [
    "text = [\"Family is not an important thing. It's everything.\"]\n",
    "stop_words = stopwords.words('english')\n",
    "vect = CountVectorizer(stop_words=stop_words)\n",
    "\n",
    "print('bag of words vector:',vect.fit_transform(text).toarray())\n",
    "print('vocabulary:',vect.vocabulary_)"
   ]
  },
  {
   "cell_type": "code",
   "execution_count": null,
   "id": "86b0f949",
   "metadata": {},
   "outputs": [],
   "source": []
  }
 ],
 "metadata": {
  "kernelspec": {
   "display_name": "Python 3 (ipykernel)",
   "language": "python",
   "name": "python3"
  },
  "language_info": {
   "codemirror_mode": {
    "name": "ipython",
    "version": 3
   },
   "file_extension": ".py",
   "mimetype": "text/x-python",
   "name": "python",
   "nbconvert_exporter": "python",
   "pygments_lexer": "ipython3",
   "version": "3.10.9"
  }
 },
 "nbformat": 4,
 "nbformat_minor": 5
}
